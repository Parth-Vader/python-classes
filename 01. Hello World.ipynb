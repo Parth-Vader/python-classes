{
 "cells": [
  {
   "cell_type": "markdown",
   "metadata": {
    "slideshow": {
     "slide_type": "slide"
    }
   },
   "source": [
    "Introduction to Programming with Python\n",
    "====================="
   ]
  },
  {
   "cell_type": "markdown",
   "metadata": {
    "slideshow": {
     "slide_type": "slide"
    }
   },
   "source": [
    "Why Python?\n",
    "======\n",
    "\n",
    "I'll come back to this question after we are half way."
   ]
  },
  {
   "cell_type": "markdown",
   "metadata": {},
   "source": [
    "The Goal of these Classes is to get you from introductory programing into the real world.\n",
    "\n"
   ]
  },
  {
   "cell_type": "markdown",
   "metadata": {
    "slideshow": {
     "slide_type": "slide"
    }
   },
   "source": [
    "* Class 1: Setup, Introduction and Basic Python: Variables, statements and function\n",
    "* Class 2: Conditionals, Lists, Dictionaries and Iterations\n",
    "* Class 3: Software Testing, Style Guides and Documentation\n",
    "* Class 4: Version Control, Git and Projects for Durga Puja"
   ]
  },
  {
   "cell_type": "markdown",
   "metadata": {
    "slideshow": {
     "slide_type": "-"
    }
   },
   "source": [
    "This class will run for 2 hour 30 minutes. We'll take a break at 5:15, remind me."
   ]
  },
  {
   "cell_type": "markdown",
   "metadata": {},
   "source": [
    "Book\n",
    "===\n",
    "\n",
    "** Think Python ** by Allen Downey.\n",
    "PDF available at: http://greenteapress.com/thinkpython2/thinkpython2.pdf"
   ]
  },
  {
   "cell_type": "markdown",
   "metadata": {
    "collapsed": true
   },
   "source": [
    "Attribution\n",
    "=======\n",
    "\n",
    "This notebook is adapted from:\n",
    "\n",
    "* Notebook created by Amy Ciavolino and Erica Greene for introductory computer science class taught at computer science class I taught at NYC iSchool. https://github.com/NYCiSchoolCS/think-python\n",
    "\n",
    "* Notebooks by http://introtopython.org/."
   ]
  },
  {
   "cell_type": "markdown",
   "metadata": {},
   "source": [
    "Python Setup and tools\n",
    "============\n",
    "\n",
    "* The Anaconda Package by Continuum Analytics is a simple way to get python and most of relevant packages. http://continuum.io/downloads\n",
    "\n",
    "* Try Shooting up Ipython by running the command `ipython` in your terminal, powershell for windows. You should see something like this:\n",
    "\n",
    "    ![](./ipython_prompt.png)\n",
    "    \n",
    "* If you like to use IDE's you have a couple of options like Spyder, Eclipse and PyCharm (proprietry). Look at [this](http://docs.continuum.io/anaconda/ide_integration) document in case you have trouble running them Anaconda."
   ]
  },
  {
   "cell_type": "markdown",
   "metadata": {
    "slideshow": {
     "slide_type": "slide"
    }
   },
   "source": [
    "# How to Run Python Code\n",
    "\n",
    "There are two ways to run Python code: **interactive mode** and **script mode**. \n",
    "\n"
   ]
  },
  {
   "cell_type": "markdown",
   "metadata": {
    "slideshow": {
     "slide_type": "fragment"
    }
   },
   "source": [
    "## Interactive Mode\n",
    "In interactive mode, you type Python programs and the interpreter displays the result. We'll be using Ipython shell instead of the ordinary python shell as it provides tab completion and many other magics. \n",
    "\n",
    "\n",
    "```python\n",
    "In [1]: 1 + 1\n",
    "\n",
    "Out[1]: 2\n",
    "```\n"
   ]
  },
  {
   "cell_type": "markdown",
   "metadata": {
    "slideshow": {
     "slide_type": "fragment"
    }
   },
   "source": [
    "## Script Mode\n",
    "In script mode, you store the code in a file that ends with \".py\". \n",
    "\n",
    "Suppose you wrote code in a file called ***first_program.py***. To execute the code in the file, you would type ***python first_program.py*** in a UNIX command window."
   ]
  },
  {
   "cell_type": "markdown",
   "metadata": {
    "slideshow": {
     "slide_type": "fragment"
    }
   },
   "source": [
    "### You should save your code as a script if you are writing anything more than a few lines"
   ]
  },
  {
   "cell_type": "markdown",
   "metadata": {
    "slideshow": {
     "slide_type": "slide"
    }
   },
   "source": [
    "# Try out interactive mode\n"
   ]
  },
  {
   "cell_type": "markdown",
   "metadata": {
    "slideshow": {
     "slide_type": "subslide"
    }
   },
   "source": [
    "###**Available Functions:**\n",
    "- \\+  (addition)\n",
    "- \\-  (subtraction)\n",
    "- \\*  (multiplication) \n",
    "- /  (division)\n",
    "- \\**  (exponentiation) \n",
    "\n",
    "\n",
    "###Order of operations apply. Remember PEMDAS? \n",
    "\n",
    "* What is 5+8/2\\**2? "
   ]
  },
  {
   "cell_type": "code",
   "execution_count": null,
   "metadata": {
    "collapsed": false,
    "slideshow": {
     "slide_type": "fragment"
    }
   },
   "outputs": [],
   "source": [
    "5+8/2**2"
   ]
  },
  {
   "cell_type": "code",
   "execution_count": null,
   "metadata": {
    "collapsed": false,
    "slideshow": {
     "slide_type": "fragment"
    }
   },
   "outputs": [],
   "source": [
    "5+(8/(2**2))"
   ]
  },
  {
   "cell_type": "markdown",
   "metadata": {
    "slideshow": {
     "slide_type": "subslide"
    }
   },
   "source": [
    "###**Available Functions:**\n",
    "- \\+  (addition)\n",
    "- \\-  (subtraction)\n",
    "- \\*  (multiplication) \n",
    "- /  (division)\n",
    "- \\**  (exponentiation) \n",
    "\n",
    "## Problem: \n",
    "\n",
    "You've finished eating at a restaurant, and received this bill:\n",
    "\n",
    "Cost of meal: $44.50\n",
    "Restaurant tax: 6.75%\n",
    "Tip: 15%\n",
    "    \n",
    "You'll apply the tip to the overall cost of the meal (including tax). What is the final total cost?"
   ]
  },
  {
   "cell_type": "code",
   "execution_count": null,
   "metadata": {
    "collapsed": false,
    "slideshow": {
     "slide_type": "fragment"
    }
   },
   "outputs": [],
   "source": [
    "(44.50 * 1.0675) * 1.15"
   ]
  },
  {
   "cell_type": "code",
   "execution_count": null,
   "metadata": {
    "collapsed": false,
    "slideshow": {
     "slide_type": "fragment"
    }
   },
   "outputs": [],
   "source": [
    "# New Function: round(number, decimal_places)\n",
    "# How do you get documentation online?\n",
    "\n",
    "round((44.50 * 1.0675) * 1.15)"
   ]
  },
  {
   "cell_type": "markdown",
   "metadata": {
    "slideshow": {
     "slide_type": "subslide"
    }
   },
   "source": [
    "###**Available Functions:**\n",
    "- \\+  (addition)\n",
    "- \\-  (subtraction)\n",
    "- \\*  (multiplication) \n",
    "- /  (division)\n",
    "- \\**  (exponentiation) \n",
    "- % (modulo) ** \\*NEW\\***\n",
    "\n",
    "**Definition:** Modulo returns the remainder from a division.\n",
    "\n",
    "* If you type 3 % 2, it will return 1, because 2 goes into 3 evenly once, with 1 left over.\n",
    "* Note, x % y = x if x < y. For example, 6 % 10 = 6\n",
    "\n",
    "**Question 1:** What is 28 % 5?\n",
    "\n",
    "**Question 2:** How we would check if a number is odd using modulo?\n"
   ]
  },
  {
   "cell_type": "markdown",
   "metadata": {},
   "source": [
    "##Extra Questions\n",
    "\n",
    "* Try 5/2. What do you get as an answer? What about 5.0/2? \n",
    "\n",
    "Do some experimentation and see what's going on. "
   ]
  },
  {
   "cell_type": "markdown",
   "metadata": {
    "slideshow": {
     "slide_type": "slide"
    }
   },
   "source": [
    "# What is a program?\n",
    "\n",
    "A **program** is a sequence of instructions that specifies how to perform a computation.\n",
    "\n",
    "Examples of what a program might do: \n",
    "\n",
    "* To help you out in math class ...\n",
    "* At the New York Times ...\n",
    "* At Etsy ...\n",
    "* At Google ..."
   ]
  },
  {
   "cell_type": "markdown",
   "metadata": {
    "slideshow": {
     "slide_type": "subslide"
    }
   },
   "source": [
    "## What makes up a program?\n",
    "\n",
    "A few basic instructions appear in just about every language:\n",
    "\n",
    "* **input**: Get data from the keyboard, a file, or some other device.\n",
    "* **output**: Display data on the screen or send data to a file or other device.\n",
    "* **math**: Perform basic mathematical operations like addition and multiplication. \n",
    "* **conditional execution**: Check for certain conditions and execute the appropriate code. \n",
    "* **repetition**: Perform some action repeatedly, usually with some variation."
   ]
  },
  {
   "cell_type": "markdown",
   "metadata": {
    "slideshow": {
     "slide_type": "fragment"
    }
   },
   "source": [
    "## And that's basically it!"
   ]
  },
  {
   "cell_type": "markdown",
   "metadata": {
    "slideshow": {
     "slide_type": "slide"
    }
   },
   "source": [
    "# Values \n",
    "\n",
    "A **value** is one of the basic things a program works with, like a letter or a number. For example: 1, 2, and 'Hello, World!'.\n",
    "\n",
    "These values belong to different **types**, few of them are:\n",
    "\n",
    "* **Integer**\n",
    "* **String**\n",
    "* **Float**\n",
    "\n",
    "You have already seen integers and strings: \n",
    "\n",
    "* 2 is an **integer**\n",
    "* 'Hello, World!' is a **string**."
   ]
  },
  {
   "cell_type": "markdown",
   "metadata": {
    "slideshow": {
     "slide_type": "subslide"
    }
   },
   "source": [
    "### You can check what type a value is by using the type function. "
   ]
  },
  {
   "cell_type": "code",
   "execution_count": null,
   "metadata": {
    "collapsed": false,
    "slideshow": {
     "slide_type": "fragment"
    }
   },
   "outputs": [],
   "source": [
    "type('Hello, World!')"
   ]
  },
  {
   "cell_type": "code",
   "execution_count": null,
   "metadata": {
    "collapsed": false,
    "slideshow": {
     "slide_type": "fragment"
    }
   },
   "outputs": [],
   "source": [
    "type(5)"
   ]
  },
  {
   "cell_type": "markdown",
   "metadata": {
    "slideshow": {
     "slide_type": "fragment"
    }
   },
   "source": [
    "Less obviously, numbers with a decimal point belong to a type called **float**."
   ]
  },
  {
   "cell_type": "code",
   "execution_count": null,
   "metadata": {
    "collapsed": false,
    "slideshow": {
     "slide_type": "fragment"
    }
   },
   "outputs": [],
   "source": [
    "type(5.4)"
   ]
  },
  {
   "cell_type": "markdown",
   "metadata": {
    "slideshow": {
     "slide_type": "subslide"
    }
   },
   "source": [
    "* **Question 1:** What is type('17')? \n",
    "\n",
    "\n",
    "\n",
    "* **Question 2:** What is type(17)?\n",
    "\n",
    "\n",
    "\n",
    "* **Question 3:** What is type(17.0)?\n",
    "\n",
    "\n",
    "\n",
    "* **Question 4:** What is type (1,000)?"
   ]
  },
  {
   "cell_type": "markdown",
   "metadata": {
    "slideshow": {
     "slide_type": "slide"
    }
   },
   "source": [
    "# Variables\n",
    "\n",
    "A **variable** is a name that refers to a value. "
   ]
  },
  {
   "cell_type": "markdown",
   "metadata": {
    "slideshow": {
     "slide_type": "subslide"
    }
   },
   "source": [
    "An **assignment statement** creates new variables and gives them values:\n",
    "\n",
    "```python\n",
    "message = 'And now for something completely different'\n",
    "\n",
    "n = 17\n",
    "\n",
    "pi = 3.1415926535897932\n",
    "```\n"
   ]
  },
  {
   "cell_type": "markdown",
   "metadata": {
    "slideshow": {
     "slide_type": "fragment"
    }
   },
   "source": [
    "**Note:** The type of a variable is the type of the value it refers to. So, type(pi) is a **float**."
   ]
  },
  {
   "cell_type": "markdown",
   "metadata": {
    "slideshow": {
     "slide_type": "slide"
    }
   },
   "source": [
    "# Practice \n",
    "\n",
    "The volume of a sphere with radius r is 4/3 π r<sup>3</sup>. What is the volume of a sphere with radius 5?\n"
   ]
  },
  {
   "cell_type": "markdown",
   "metadata": {
    "slideshow": {
     "slide_type": "subslide"
    }
   },
   "source": [
    "# Exploring Variable Names\n",
    "\n",
    "* What happens when you try to use a variable before you assign it a value?\n",
    "\n",
    "\n",
    "* What happens if you try to make a variable that starts with a number? \n",
    "\n",
    "\n",
    "* Are two variables with the same name but different capitalization the same variable?\n",
    "\n",
    "\n",
    "* What does the following code do? \n",
    "\n",
    "`a, b = 1, 2`\n",
    "\n",
    "* What are the final values of x and y? \n",
    "\n",
    "`x = 4`\n",
    "\n",
    "`y = x + 1`\n",
    "\n",
    "`x = 2`\n",
    "\n",
    "* What is the final value of x? \n",
    "\n",
    "`x = 4`\n",
    "\n",
    "`x = x + 1`\n",
    "\n"
   ]
  },
  {
   "cell_type": "markdown",
   "metadata": {
    "slideshow": {
     "slide_type": "subslide"
    }
   },
   "source": [
    "## Syntax Errors\n",
    "\n",
    "* **Syntax** refers to the structure of a program and the rules about that structure.\n",
    "\n",
    "\n",
    "\n",
    "    * **Example:** (1 + 2) is legal, but (1 is not legal\n",
    "    \n",
    "\n",
    "\n",
    "* You can think of syntax like grammar in English. \n",
    "\n",
    "\n",
    "\n",
    "    * **Example:** \"What are you eating?\" is legal but \"What are you eating.\" is not legal\n",
    "    \n",
    "    \n",
    "    \n",
    "### If there is 1 syntax error, Python will give you an error message and quit\n",
    "\n",
    "    "
   ]
  },
  {
   "cell_type": "code",
   "execution_count": null,
   "metadata": {
    "collapsed": false,
    "slideshow": {
     "slide_type": "fragment"
    }
   },
   "outputs": [],
   "source": [
    "76ers = 'my favorite team'"
   ]
  },
  {
   "cell_type": "code",
   "execution_count": null,
   "metadata": {
    "collapsed": false,
    "slideshow": {
     "slide_type": "fragment"
    }
   },
   "outputs": [],
   "source": [
    "(7 - 4"
   ]
  },
  {
   "cell_type": "markdown",
   "metadata": {
    "slideshow": {
     "slide_type": "slide"
    }
   },
   "source": [
    "## String Operations\n",
    "\n",
    "In general, you cannot perform mathematical operations on strings, even if the string looks like a number. \n",
    "\n",
    "**BAD** \n",
    "\n",
    "* '2'-'1'\n",
    "* 'eggs' / 'easy'\n",
    "* 'third' * 'a charm'\n"
   ]
  },
  {
   "cell_type": "markdown",
   "metadata": {
    "slideshow": {
     "slide_type": "fragment"
    }
   },
   "source": [
    "## But there are a few exceptions...\n",
    "\n",
    "### Addition \n",
    "\n",
    "The + operator works with strings: it performs **concatenation**, which means joining the strings by linking them end-to-end. \n",
    "\n",
    "**For example:**"
   ]
  },
  {
   "cell_type": "code",
   "execution_count": null,
   "metadata": {
    "collapsed": false,
    "slideshow": {
     "slide_type": "fragment"
    }
   },
   "outputs": [],
   "source": [
    "first = 'Harsh'\n",
    "second = 'Gupta'\n",
    "print(first + second)\n"
   ]
  },
  {
   "cell_type": "markdown",
   "metadata": {
    "slideshow": {
     "slide_type": "fragment"
    }
   },
   "source": [
    "**Question:** How could I change the code to print \"Harsh Gupta\""
   ]
  },
  {
   "cell_type": "markdown",
   "metadata": {
    "slideshow": {
     "slide_type": "subslide"
    }
   },
   "source": [
    "### Multiplication \n",
    "\n",
    "The * operator performs repetition on strings.\n",
    "\n",
    "**For example: ** 'Spam' * 3 is 'SpamSpamSpam'.\n",
    "    \n"
   ]
  },
  {
   "cell_type": "markdown",
   "metadata": {
    "slideshow": {
     "slide_type": "slide"
    }
   },
   "source": [
    "## Raw Input\n",
    "\n",
    "It presents a prompt to the user, gets input from the user and returns the data input by the user in a string. \n",
    "\n",
    "\n",
    "`name = raw_input(\"What is your name? \")`"
   ]
  },
  {
   "cell_type": "markdown",
   "metadata": {
    "slideshow": {
     "slide_type": "fragment"
    }
   },
   "source": [
    "### Exercise:\n",
    "\n",
    "Use the above code to ask the user what his or her name is and then print out:\n",
    "\n",
    "\"Welcome to the world of Python -------\"\n",
    "\n"
   ]
  },
  {
   "cell_type": "markdown",
   "metadata": {
    "slideshow": {
     "slide_type": "fragment"
    }
   },
   "source": [
    "### Extra Exercise: \n",
    "\n",
    "Print out:\n",
    "\n",
    "\"I can say your name 3 times: ------ ------ ------\""
   ]
  },
  {
   "cell_type": "markdown",
   "metadata": {
    "slideshow": {
     "slide_type": "slide"
    }
   },
   "source": [
    "# Good Variable Names\n",
    "\n",
    "* Variable names should be as descriptive as possible\n",
    "    * **Good**: days_ate_range, flight_number, car_color\n",
    "    * **Bad**:  days, dRange, temp, data\n",
    "    \n",
    "* The variable name has to be as short as possible.\n",
    "   * **Good**: how_long_does_it_take_to_open_the_door, how_big_is_the_material\n",
    "   * **Bad**:  time_to_open_door, material_size.\n",
    "   \n",
    "* Be consistent\n",
    "\n",
    "### Golden rule: Spend a few minutes thinking about your variable names.\n"
   ]
  },
  {
   "cell_type": "markdown",
   "metadata": {
    "slideshow": {
     "slide_type": "slide"
    }
   },
   "source": [
    "# Comments \n",
    "\n",
    "As programs get bigger and more complicated, they get more difficult to read.\n",
    "\n",
    "For this reason, it is a good idea to add notes to your programs to explain **in English** what the program is doing.\n",
    "\n",
    "These notes are called comments, and they start with the # symbol:\n",
    "\n"
   ]
  },
  {
   "cell_type": "code",
   "execution_count": null,
   "metadata": {
    "collapsed": false,
    "slideshow": {
     "slide_type": "fragment"
    }
   },
   "outputs": [],
   "source": [
    "# compute the percentage of the hour that has elapsed\n",
    "minute = 30\n",
    "percentage = (minute * 100) / 60"
   ]
  },
  {
   "cell_type": "code",
   "execution_count": null,
   "metadata": {
    "collapsed": false,
    "slideshow": {
     "slide_type": "fragment"
    }
   },
   "outputs": [],
   "source": [
    "minute = 30\n",
    "percentage = (minute * 100) / 60 # percentage of an hour"
   ]
  },
  {
   "cell_type": "code",
   "execution_count": null,
   "metadata": {
    "collapsed": false,
    "slideshow": {
     "slide_type": "subslide"
    }
   },
   "outputs": [],
   "source": [
    "v = 5     # assign 5 to v [THIS COMMENT IS REDUNDANT]\n",
    "\n",
    "v = 5     # velocity in meters/second. [THIS COMMENT IS USEFUL]"
   ]
  },
  {
   "cell_type": "markdown",
   "metadata": {},
   "source": [
    "Introducing Functions\n",
    "===\n",
    "One of the core principles of any programming language is, \"Don't Repeat Yourself\". If you have an action that should occur many times, you can define that action once and then call that code whenever you need to carry out that action.\n",
    "\n",
    "We are already repeating ourselves in our code, so this is a good time to introduce simple functions. Functions mean less work for us as programmers, and effective use of functions results in code that is less error-prone."
   ]
  },
  {
   "cell_type": "markdown",
   "metadata": {},
   "source": [
    "What are functions?\n",
    "===\n",
    "Functions are a set of actions that we group together, and give a name to. You have already used a number of functions from the core Python language, such as *string.title()* and *list.sort()*. We can define our own functions, which allows us to \"teach\" Python new behavior."
   ]
  },
  {
   "cell_type": "markdown",
   "metadata": {},
   "source": [
    "General Syntax\n",
    "---\n",
    "A general function looks something like this:"
   ]
  },
  {
   "cell_type": "code",
   "execution_count": null,
   "metadata": {
    "collapsed": false
   },
   "outputs": [],
   "source": [
    "# Let's define a function.\n",
    "def function_name(argument_1, argument_2):\n",
    "\t# Do whatever we want this function to do,\n",
    "\t#  using argument_1 and argument_2\n",
    "\n",
    "# Use function_name to call the function.\n",
    "function_name(value_1, value_2)"
   ]
  },
  {
   "cell_type": "markdown",
   "metadata": {},
   "source": [
    "This code will not run, but it shows how functions are used in general.\n",
    "\n",
    "- **Defining a function**\n",
    "    - Give the keyword `def`, which tells Python that you are about to *define* a function.\n",
    "    - Give your function a name. A variable name tells you what kind of value the variable contains; a function name should tell you what the function does.\n",
    "    - Give names for each value the function needs in order to do its work.\n",
    "        - These are basically variable names, but they are only used in the function.\n",
    "        - They can be different names than what you use in the rest of your program.\n",
    "        - These are called the function's *arguments*.\n",
    "    - Make sure the function definition line ends with a colon.\n",
    "    - Inside the function, write whatever code you need to make the function do its work.\n",
    "- **Using your function**\n",
    "    - To *call* your function, write its name followed by parentheses.\n",
    "    - Inside the parentheses, give the values you want the function to work with.\n",
    "        - These can be variables such as `current_name` and `current_age`, or they can be actual values such as 'eric' and 5."
   ]
  },
  {
   "cell_type": "markdown",
   "metadata": {},
   "source": [
    "Basic Examples\n",
    "===\n",
    "For a simple first example, we will look at a program that compliments people. Let's look at the example, and then try to understand the code. First we will look at a version of this program as we would have written it earlier, with no functions."
   ]
  },
  {
   "cell_type": "code",
   "execution_count": null,
   "metadata": {
    "collapsed": false
   },
   "outputs": [],
   "source": [
    "print(\"You are doing good work, Vivek!\")\n",
    "print(\"Thank you very much for your efforts on this project.\")\n",
    "\n",
    "print(\"\\nYou are doing good work, Sanyam!\")\n",
    "print(\"Thank you very much for your efforts on this project.\")\n",
    "\n",
    "print(\"\\nYou are doing good work, Kumar!\")\n",
    "print(\"Thank you very much for your efforts on this project.\")"
   ]
  },
  {
   "cell_type": "markdown",
   "metadata": {},
   "source": [
    "Functions take repeated code, put it in one place, and then you call that code when you want to use it. Here's what the same program looks like with a function."
   ]
  },
  {
   "cell_type": "code",
   "execution_count": null,
   "metadata": {
    "collapsed": false
   },
   "outputs": [],
   "source": [
    "def thank_you(name):\n",
    "    # This function prints a two-line personalized thank you message.\n",
    "    print(\"\\nYou are doing good work, %s!\" % name)\n",
    "    print(\"Thank you very much for your efforts on this project.\")\n",
    "    \n",
    "thank_you('Vivek')\n",
    "thank_you('Sanyam')\n",
    "thank_you('Kumar')"
   ]
  },
  {
   "cell_type": "markdown",
   "metadata": {},
   "source": [
    "In our original code, each pair of print statements was run three times, and the only difference was the name of the person being thanked. When you see repetition like this, you can usually make your program more efficient by defining a function.\n",
    "\n",
    "The keyword *def* tells Python that we are about to define a function. We give our function a name, *thank\\_you()* in this case. A variable's name should tell us what kind of information it holds; a function's name should tell us what the variable does.  We then put parentheses. Inside these parenthese we create variable names for any variable the function will need to be given in order to do its job. In this case the function will need a name to include in the thank you message. The variable `name` will hold the value that is passed into the function *thank\\_you()*.\n",
    "\n",
    "To use a function we give the function's name, and then put any values the function needs in order to do its work. In this case we call the function three times, each time passing it a different name."
   ]
  },
  {
   "cell_type": "markdown",
   "metadata": {},
   "source": [
    "### A common error\n",
    "A function must be defined before you use it in your program. For example, putting the function at the end of the program would not work."
   ]
  },
  {
   "cell_type": "code",
   "execution_count": null,
   "metadata": {
    "collapsed": false
   },
   "outputs": [],
   "source": [
    "thank_you('Adriana')\n",
    "thank_you('Billy')\n",
    "thank_you('Caroline')\n",
    "\n",
    "def thank_you(name):\n",
    "    # This function prints a two-line personalized thank you message.\n",
    "    print(\"\\nYou are doing good work, %s!\" % name)\n",
    "    print(\"Thank you very much for your efforts on this project.\")"
   ]
  },
  {
   "cell_type": "markdown",
   "metadata": {},
   "source": [
    "On the first line we ask Python to run the function *thank\\_you()*, but Python does not yet know how to do this function. We define our functions at the beginning of our programs, and then we can use them when we need to."
   ]
  },
  {
   "cell_type": "markdown",
   "metadata": {},
   "source": [
    "### Advantages of using functions\n",
    "You might be able to see some advantages of using functions, through this example:\n",
    "\n",
    "- We write a set of instructions once. We save some work in this simple example, and we save even more work in larger programs.\n",
    "- When our function works, we don't have to worry about that code anymore. Every time you repeat code in your program, you introduce an opportunity to make a mistake. Writing a function means there is one place to fix mistakes, and when those bugs are fixed, we can be confident that this function will continue to work correctly.\n",
    "- We can modify our function's behavior, and that change takes effect every time the function is called. This is much better than deciding we need some new behavior, and then having to change code in many different places in our program."
   ]
  },
  {
   "cell_type": "markdown",
   "metadata": {},
   "source": [
    "For a quick example, let's say we decide our printed output would look better with some form of a bulleted list. Without functions, we'd have to change each print statement. With a function, we change just the print statement in the function:"
   ]
  },
  {
   "cell_type": "markdown",
   "metadata": {},
   "source": [
    "More Later\n",
    "---\n",
    "There is much more to learn about functions, but we will get to those details later. For now, feel free to use functions whenever you find yourself writing the same code several times in a program. Some of the things you will learn when we focus on functions:\n",
    "\n",
    "- How to give the arguments in your function default values.\n",
    "- How to let your functions accept different numbers of arguments."
   ]
  },
  {
   "cell_type": "markdown",
   "metadata": {},
   "source": [
    "Exercises\n",
    "---\n",
    "#### Greeter\n",
    "- Write a function that takes in a person's name, and prints out a greeting.\n",
    "    - The greeting must be at least three lines, and the person's name must be in each line.\n",
    "- Use your function to greet at least three different people.\n",
    "- **Bonus:** Store your three people in a list, and call your function from a `for` loop.\n",
    "\n",
    "#### Full Names\n",
    "- Write a function that takes in a first name and a last name, and prints out a nicely formatted full name, in a sentence. Your sentence could be as simple as, \"Hello, *full\\_name*.\"\n",
    "- Call your function three times, with a different name each time.\n",
    "\n",
    "#### Addition Calculator\n",
    "- Write a function that takes in two numbers, and adds them together. Make your function print out a sentence showing the two numbers, and the result.\n",
    "- Call your function with three different sets of numbers.\n",
    "\n",
    "#### Return Calculator\n",
    "- Modify *Addition Calculator* so that your function returns the sum of the two numbers. The printing should happen outside of the function.\n",
    "\n",
    "#### List Exercises - Functions\n",
    "- Go back and solve each of the following exercises from the section on [Lists and Tuples](http://nbviewer.ipython.org/urls/raw.github.com/ehmatthes/intro_programming/master/notebooks/lists_tuples.ipynb), using functions to avoid repetetive code:\n",
    "    - [Ordered Working List](http://nbviewer.ipython.org/urls/raw.github.com/ehmatthes/intro_programming/master/notebooks/lists_tuples.ipynb#exercises_common_operations)\n",
    "    - [Ordered Numbers](http://nbviewer.ipython.org/urls/raw.github.com/ehmatthes/intro_programming/master/notebooks/lists_tuples.ipynb#exercises_common_operations)\n",
    "\n"
   ]
  },
  {
   "cell_type": "markdown",
   "metadata": {},
   "source": [
    "Challenges\n",
    "---\n",
    "#### Lyrics\n",
    "- Many songs follow a familiar variation of the pattern of *verse*, *refrain*, *verse*, *refrain*. The verses are the parts of the song that tell a story - they are not repeated in the song. The refrain is the part of the song that is repeated throughout the song.\n",
    "- Find the lyrics to a [song you like](http://www.metrolyrics.com/dont-stop-believin-lyrics-journey.html) that follows this pattern. Write a program that prints out the lyrics to this song, using as few lines of Python code as possible. [hint](#hint_challenges_lyrics)"
   ]
  },
  {
   "cell_type": "markdown",
   "metadata": {},
   "source": [
    "Hints\n",
    "===\n",
    "These are placed at the bottom, so you can have a chance to solve exercises without seeing any hints.\n",
    "\n",
    "#### Lyrics\n",
    "- Define a function that prints out the lyrics of the refrain. Use this function any time the refrain comes up in the song."
   ]
  }
 ],
 "metadata": {
  "kernelspec": {
   "display_name": "Python 3",
   "language": "python",
   "name": "python3"
  },
  "language_info": {
   "codemirror_mode": {
    "name": "ipython",
    "version": 3
   },
   "file_extension": ".py",
   "mimetype": "text/x-python",
   "name": "python",
   "nbconvert_exporter": "python",
   "pygments_lexer": "ipython3",
   "version": "3.4.3"
  }
 },
 "nbformat": 4,
 "nbformat_minor": 0
}
